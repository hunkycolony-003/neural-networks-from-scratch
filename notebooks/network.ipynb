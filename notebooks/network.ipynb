{
 "cells": [
  {
   "cell_type": "markdown",
   "id": "d57436486a5cadb2",
   "metadata": {},
   "source": [
    "## Neural network for Handwritten digit recognition trained using MNIST database"
   ]
  },
  {
   "cell_type": "code",
   "execution_count": 4,
   "id": "864ab99a",
   "metadata": {},
   "outputs": [],
   "source": [
    "import sys\n",
    "sys.path.append(\"..\")   # if your notebook is inside notebooks/"
   ]
  },
  {
   "cell_type": "markdown",
   "id": "6be83d4e",
   "metadata": {},
   "source": [
    "### With constant ETA"
   ]
  },
  {
   "cell_type": "code",
   "execution_count": 5,
   "id": "55cf3223809a44b8",
   "metadata": {
    "ExecuteTime": {
     "end_time": "2025-09-22T07:03:20.888384Z",
     "start_time": "2025-09-22T07:02:10.568270Z"
    }
   },
   "outputs": [
    {
     "name": "stdout",
     "output_type": "stream",
     "text": [
      "Epoch 0: 8086 / 10000 -> 0.81\n",
      "Epoch 1: 8196 / 10000 -> 0.82\n",
      "Epoch 2: 8335 / 10000 -> 0.83\n",
      "Epoch 3: 8334 / 10000 -> 0.83\n",
      "Epoch 4: 8434 / 10000 -> 0.84\n",
      "Epoch 5: 8393 / 10000 -> 0.84\n",
      "Epoch 6: 8454 / 10000 -> 0.85\n",
      "Epoch 7: 8460 / 10000 -> 0.85\n",
      "Epoch 8: 8473 / 10000 -> 0.85\n",
      "Epoch 9: 8480 / 10000 -> 0.85\n",
      "Epoch 10: 8507 / 10000 -> 0.85\n",
      "Epoch 11: 8521 / 10000 -> 0.85\n",
      "Epoch 12: 8525 / 10000 -> 0.85\n",
      "Epoch 13: 8504 / 10000 -> 0.85\n",
      "Epoch 14: 8539 / 10000 -> 0.85\n",
      "Epoch 15: 8539 / 10000 -> 0.85\n",
      "Epoch 16: 8540 / 10000 -> 0.85\n",
      "Epoch 17: 8528 / 10000 -> 0.85\n",
      "Epoch 18: 8509 / 10000 -> 0.85\n",
      "Epoch 19: 8558 / 10000 -> 0.86\n",
      "Epoch 20: 8536 / 10000 -> 0.85\n",
      "Epoch 21: 8557 / 10000 -> 0.86\n",
      "Epoch 22: 8549 / 10000 -> 0.85\n",
      "Epoch 23: 8532 / 10000 -> 0.85\n",
      "Epoch 24: 8545 / 10000 -> 0.85\n",
      "Epoch 25: 8554 / 10000 -> 0.86\n",
      "Epoch 26: 8558 / 10000 -> 0.86\n",
      "Epoch 27: 8548 / 10000 -> 0.85\n",
      "Epoch 28: 8581 / 10000 -> 0.86\n",
      "Epoch 29: 8563 / 10000 -> 0.86\n"
     ]
    }
   ],
   "source": [
    "import src.mnist_loader as mnist_loader\n",
    "from src.network import Network\n",
    "\n",
    "training_data, validation_data, test_data = mnist_loader.load_data_wrapper()\n",
    "\n",
    "net = Network([784, 100, 10])\n",
    "net.SGD(training_data, 30, 10, eta=5.0, test_data=test_data)"
   ]
  },
  {
   "cell_type": "markdown",
   "id": "9f7b2689",
   "metadata": {},
   "source": [
    "### With varying ETA"
   ]
  },
  {
   "cell_type": "code",
   "execution_count": 6,
   "id": "79e6a270",
   "metadata": {},
   "outputs": [
    {
     "name": "stdout",
     "output_type": "stream",
     "text": [
      "Epoch 0: 7396 / 10000 -> 0.74\n",
      "Epoch 1: 7640 / 10000 -> 0.76\n",
      "Epoch 2: 7703 / 10000 -> 0.77\n",
      "Epoch 3: 8584 / 10000 -> 0.86\n",
      "Epoch 4: 8607 / 10000 -> 0.86\n",
      "Epoch 5: 8633 / 10000 -> 0.86\n",
      "Epoch 6: 8650 / 10000 -> 0.86\n",
      "Epoch 7: 8639 / 10000 -> 0.86\n",
      "Epoch 8: 8649 / 10000 -> 0.86\n",
      "Epoch 9: 8666 / 10000 -> 0.87\n",
      "Epoch 10: 8710 / 10000 -> 0.87\n",
      "Epoch 11: 8669 / 10000 -> 0.87\n",
      "Epoch 12: 8701 / 10000 -> 0.87\n",
      "Epoch 13: 8674 / 10000 -> 0.87\n",
      "Epoch 14: 8710 / 10000 -> 0.87\n",
      "Epoch 15: 8727 / 10000 -> 0.87\n",
      "Epoch 16: 8692 / 10000 -> 0.87\n",
      "Epoch 17: 8735 / 10000 -> 0.87\n",
      "Epoch 18: 8724 / 10000 -> 0.87\n",
      "Epoch 19: 8724 / 10000 -> 0.87\n",
      "Epoch 20: 8705 / 10000 -> 0.87\n",
      "Epoch 21: 8710 / 10000 -> 0.87\n",
      "Epoch 22: 8724 / 10000 -> 0.87\n",
      "Epoch 23: 8724 / 10000 -> 0.87\n",
      "Epoch 24: 8738 / 10000 -> 0.87\n",
      "Epoch 25: 8731 / 10000 -> 0.87\n",
      "Epoch 26: 8745 / 10000 -> 0.87\n",
      "Epoch 27: 8747 / 10000 -> 0.87\n",
      "Epoch 28: 8755 / 10000 -> 0.88\n",
      "Epoch 29: 8750 / 10000 -> 0.88\n"
     ]
    }
   ],
   "source": [
    "import numpy as np\n",
    "\n",
    "def sigmoid(x):\n",
    "    return 1.0/(1.0+np.exp(-x))\n",
    "\n",
    "net = Network([784, 100, 10])\n",
    "net.SGD(training_data, 30, 10, eta=5.0, schedule=lambda x: 5-3*sigmoid(3*(x-25)), test_data=test_data)"
   ]
  },
  {
   "cell_type": "code",
   "execution_count": null,
   "id": "6413d67f",
   "metadata": {},
   "outputs": [
    {
     "data": {
      "text/plain": [
       "[<matplotlib.lines.Line2D at 0x10a2f73b0>]"
      ]
     },
     "execution_count": 10,
     "metadata": {},
     "output_type": "execute_result"
    },
    {
     "data": {
      "image/png": "[encoded data removed]",
      "text/plain": [
       "<Figure size 640x480 with 1 Axes>"
      ]
     },
     "metadata": {},
     "output_type": "display_data"
    }
   ],
   "source": [
    "import matplotlib.pyplot as plt\n",
    "\n",
    "\n",
    "x = np.linspace(0, 30, 100)\n",
    "y = 5 - 3*sigmoid(2*(x-20))\n",
    "\n",
    "plt.plot(x, y)"
   ]
  }
 ],
 "metadata": {
  "kernelspec": {
   "display_name": ".venv",
   "language": "python",
   "name": "python3"
  },
  "language_info": {
   "codemirror_mode": {
    "name": "ipython",
    "version": 3
   },
   "file_extension": ".py",
   "mimetype": "text/x-python",
   "name": "python",
   "nbconvert_exporter": "python",
   "pygments_lexer": "ipython3",
   "version": "3.12.4"
  }
 },
 "nbformat": 4,
 "nbformat_minor": 5
}
